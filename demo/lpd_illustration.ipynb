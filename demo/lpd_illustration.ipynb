{
 "cells": [
  {
   "cell_type": "code",
   "execution_count": 1,
   "id": "a03e80ac",
   "metadata": {},
   "outputs": [],
   "source": [
    "import sys\n",
    "sys.path.append(\"../learn_poly_sampling\")"
   ]
  },
  {
   "cell_type": "code",
   "execution_count": 2,
   "id": "9984f76d",
   "metadata": {},
   "outputs": [],
   "source": [
    "import numpy as np \n",
    "import torch \n",
    "import torch.nn as nn\n",
    "from PIL import Image\n",
    "from functools import partial\n",
    "from layers import get_logits_model, PolyphaseInvariantDown2D, LPS\n",
    "from layers.polydown import set_pool"
   ]
  },
  {
   "cell_type": "code",
   "execution_count": 3,
   "id": "de679373",
   "metadata": {},
   "outputs": [],
   "source": [
    "# Define Model\n",
    "class SimpleClassifier(nn.Module):\n",
    "    def __init__(self, num_classes=3,padding_mode='circular'):\n",
    "        # Conv. Layer\n",
    "        super().__init__()\n",
    "        self.conv1 = nn.Conv2d(3, 32, 3, padding=1, padding_mode=padding_mode)\n",
    "        # Learnable Polyphase Downsampling Layer\n",
    "        self.lpd = set_pool(partial(\n",
    "            PolyphaseInvariantDown2D,\n",
    "            component_selection=LPS,\n",
    "            get_logits=get_logits_model('LPSLogitLayers'),\n",
    "            pass_extras=False\n",
    "            ),p_ch=32,h_ch=32)\n",
    "        # Global Pooling + Classifier\n",
    "        self.avgpool=nn.AdaptiveAvgPool2d((1,1))\n",
    "        self.fc=nn.Linear(32, num_classes)\n",
    "    def forward(self,x):\n",
    "        x = self.conv1(x)\n",
    "        x = self.lpd(x)  # Use just as any down-sampling layer!\n",
    "        x = torch.flatten(self.avgpool(x),1)\n",
    "        return self.fc(x)"
   ]
  },
  {
   "cell_type": "code",
   "execution_count": 4,
   "id": "437bfad2",
   "metadata": {},
   "outputs": [],
   "source": [
    "# Construct Model\n",
    "torch.manual_seed(0)\n",
    "model = SimpleClassifier().cuda().eval().double()\n",
    "# Load Image\n",
    "img = torch.from_numpy(np.array(Image.open('butterfly.png'))).permute(2,0,1)\n",
    "img = img.unsqueeze(0).cuda().double()"
   ]
  },
  {
   "cell_type": "code",
   "execution_count": 5,
   "id": "3de70fd8",
   "metadata": {},
   "outputs": [
    {
     "name": "stdout",
     "output_type": "stream",
     "text": [
      "y_orig : tensor([[-22.0681, -36.2678,  20.5928]], dtype=torch.float64)\n",
      "y_roll : tensor([[-22.0681, -36.2678,  20.5928]], dtype=torch.float64)\n",
      "Norm(y_orig-y_roll): 0.000000e+00\n"
     ]
    }
   ],
   "source": [
    "# Check is circular shift invariant\n",
    "y_orig = model(img).detach().cpu()\n",
    "img_roll = torch.roll(img,shifts=(1, 1), dims=(-1, -2))\n",
    "y_roll = model(img_roll).detach().cpu()\n",
    "print(\"y_orig : %s\" % y_orig)\n",
    "print(\"y_roll : %s\" % y_roll)\n",
    "assert(torch.allclose(y_orig,y_roll)) # Check shift invariant\n",
    "print(\"Norm(y_orig-y_roll): %e\" % torch.norm(y_orig-y_roll))"
   ]
  },
  {
   "cell_type": "code",
   "execution_count": null,
   "id": "1ffafea9",
   "metadata": {},
   "outputs": [],
   "source": []
  }
 ],
 "metadata": {
  "kernelspec": {
   "display_name": "Python 2",
   "language": "python",
   "name": "python2"
  },
  "language_info": {
   "codemirror_mode": {
    "name": "ipython",
    "version": 3
   },
   "file_extension": ".py",
   "mimetype": "text/x-python",
   "name": "python",
   "nbconvert_exporter": "python",
   "pygments_lexer": "ipython3",
   "version": "3.7.11"
  }
 },
 "nbformat": 4,
 "nbformat_minor": 5
}
